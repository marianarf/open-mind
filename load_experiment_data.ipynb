{
 "cells": [
  {
   "cell_type": "code",
   "execution_count": 1,
   "metadata": {},
   "outputs": [],
   "source": [
    "import glob\n",
    "import os\n",
    "import pandas as pd\n",
    "import numpy as np"
   ]
  },
  {
   "cell_type": "code",
   "execution_count": 2,
   "metadata": {},
   "outputs": [],
   "source": [
    "def read_multiple_files(directory):\n",
    "    ''' Read multiple EEG recordings in directory '''\n",
    "    dfs_folders = []\n",
    "    for folder in os.listdir(directory):\n",
    "        if '.' not in folder:\n",
    "            print(folder)\n",
    "            folder_files = glob.glob(directory + '/' + folder + '/*') # Make sure to separate experiment groups/data into folders\n",
    "            folder_dataframes = [pd.read_csv(f, low_memory=False) for f in folder_files]\n",
    "            df_folder = pd.concat(folder_dataframes, sort=True)\n",
    "            df_folder['Folder'] = folder\n",
    "            dfs_folders.append(df_folder)\n",
    "    df = pd.concat(dfs_folders, sort=True)\n",
    "    return df"
   ]
  },
  {
   "cell_type": "code",
   "execution_count": 3,
   "metadata": {},
   "outputs": [
    {
     "name": "stdout",
     "output_type": "stream",
     "text": [
      "anxiety_and_sleep_eeg\n",
      "basal_eeg\n"
     ]
    }
   ],
   "source": [
    "df = read_multiple_files('data')"
   ]
  },
  {
   "cell_type": "code",
   "execution_count": 5,
   "metadata": {},
   "outputs": [],
   "source": [
    "df = df.set_index(pd.DatetimeIndex(df['TimeStamp']))"
   ]
  },
  {
   "cell_type": "code",
   "execution_count": 6,
   "metadata": {},
   "outputs": [],
   "source": [
    "try:\n",
    "    del df['Unnamed: 0'] \n",
    "except:\n",
    "    None"
   ]
  },
  {
   "cell_type": "code",
   "execution_count": 7,
   "metadata": {},
   "outputs": [
    {
     "data": {
      "text/plain": [
       "Index(['AUX_RIGHT', 'Accelerometer_X', 'Accelerometer_Y', 'Accelerometer_Z',\n",
       "       'Alpha_AF7', 'Alpha_AF8', 'Alpha_TP10', 'Alpha_TP9', 'Battery',\n",
       "       'Beta_AF7', 'Beta_AF8', 'Beta_TP10', 'Beta_TP9', 'Delta_AF7',\n",
       "       'Delta_AF8', 'Delta_TP10', 'Delta_TP9', 'Elements', 'Folder',\n",
       "       'Gamma_AF7', 'Gamma_AF8', 'Gamma_TP10', 'Gamma_TP9', 'Gyro_X', 'Gyro_Y',\n",
       "       'Gyro_Z', 'HSI_AF7', 'HSI_AF8', 'HSI_TP10', 'HSI_TP9', 'HeadBandOn',\n",
       "       'RAW_AF7', 'RAW_AF8', 'RAW_TP10', 'RAW_TP9', 'Theta_AF7', 'Theta_AF8',\n",
       "       'Theta_TP10', 'Theta_TP9', 'TimeStamp'],\n",
       "      dtype='object')"
      ]
     },
     "execution_count": 7,
     "metadata": {},
     "output_type": "execute_result"
    }
   ],
   "source": [
    "df.keys()"
   ]
  }
 ],
 "metadata": {
  "kernelspec": {
   "display_name": "Python 3",
   "language": "python",
   "name": "python3"
  },
  "language_info": {
   "codemirror_mode": {
    "name": "ipython",
    "version": 3
   },
   "file_extension": ".py",
   "mimetype": "text/x-python",
   "name": "python",
   "nbconvert_exporter": "python",
   "pygments_lexer": "ipython3",
   "version": "3.7.4"
  }
 },
 "nbformat": 4,
 "nbformat_minor": 4
}
